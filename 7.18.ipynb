{
 "cells": [
  {
   "cell_type": "markdown",
   "metadata": {},
   "source": [
    "# 选择\n",
    "## 布尔类型、数值和表达式\n",
    "![](../Photo/33.png)\n",
    "- 注意：比较运算符的相等是两个等到，一个等到代表赋值\n",
    "- 在Python中可以用整型0来代表False，其他数字来代表True\n",
    "- 后面还会讲到 is 在判断语句中的用发"
   ]
  },
  {
   "cell_type": "markdown",
   "metadata": {},
   "source": [
    "## EP:\n",
    "- <img src=\"../Photo/34.png\"></img>\n",
    "- 输入一个数字，判断其实奇数还是偶数"
   ]
  },
  {
   "cell_type": "code",
   "execution_count": 1,
   "metadata": {},
   "outputs": [
    {
     "name": "stdout",
     "output_type": "stream",
     "text": [
      "1\n"
     ]
    }
   ],
   "source": [
    "i=int(True)\n",
    "print(i)"
   ]
  },
  {
   "cell_type": "markdown",
   "metadata": {},
   "source": [
    "## 产生随机数字\n",
    "- 函数random.randint(a,b) 可以用来产生一个a和b之间且包括a和b的随机整数"
   ]
  },
  {
   "cell_type": "markdown",
   "metadata": {},
   "source": [
    "## EP：\n",
    "- 产生两个随机整数number1和number2，然后显示给用户，使用户输入数字，并判定其是否正确\n",
    "- 进阶:写一个随机序号点名程序"
   ]
  },
  {
   "cell_type": "code",
   "execution_count": 14,
   "metadata": {},
   "outputs": [
    {
     "name": "stdout",
     "output_type": "stream",
     "text": [
      "2 1\n"
     ]
    }
   ],
   "source": [
    "import random\n",
    "a=random.randint(0,3)\n",
    "if a<2:\n",
    "    b=random.randint(0,4)\n",
    "else:\n",
    "    b=random.randint(0,3)\n",
    "print(a,b)"
   ]
  },
  {
   "cell_type": "markdown",
   "metadata": {},
   "source": [
    "##  其他random方法\n",
    "- random.random 返回0.0到1.0之间前闭后开区间的随机浮点\n",
    "- random.randrange(a,b) 前闭后开"
   ]
  },
  {
   "cell_type": "markdown",
   "metadata": {},
   "source": [
    "## if语句\n",
    "- 如果条件正确就执行一个单向if语句，亦即当条件为真的时候才执行if内部的语句\n",
    "- Python有很多选择语句:\n",
    "> - 单向if \n",
    "  - 双向if-else\n",
    "  - 嵌套if\n",
    "  - 多向if-elif-else\n",
    "  \n",
    "- 注意：当语句含有子语句的时候，那么一定至少要有一个缩进，也就是说如果有儿子存在，那么一定要缩进\n",
    "- 切记不可table键和space混用，单用table 或者 space\n",
    "- 当你输出的结果是无论if是否为真时都需要显示时，语句应该与if对齐"
   ]
  },
  {
   "cell_type": "markdown",
   "metadata": {},
   "source": [
    "## EP：\n",
    "- 用户输入一个数字，判断其实奇数还是偶数\n",
    "- 进阶：可以查看下4.5实例研究猜生日"
   ]
  },
  {
   "cell_type": "markdown",
   "metadata": {},
   "source": [
    "## 双向if-else 语句\n",
    "- 如果条件为真，那么走if内部语句，否则走else内部语句"
   ]
  },
  {
   "cell_type": "markdown",
   "metadata": {},
   "source": [
    "## EP：\n",
    "- 产生两个随机整数number1和number2，然后显示给用户，使用户输入数字，并判定其是否正确,如果正确打印“you‘re correct”，否则打印正确答案"
   ]
  },
  {
   "cell_type": "markdown",
   "metadata": {},
   "source": [
    "## 嵌套if 和多向if-elif-else\n",
    "![](../Photo/35.png)"
   ]
  },
  {
   "cell_type": "markdown",
   "metadata": {},
   "source": [
    "## EP：\n",
    "- 提示用户输入一个年份，然后显示表示这一年的动物\n",
    "![](../Photo/36.png)\n",
    "- 计算身体质量指数的程序\n",
    "- BMI = 以千克为单位的体重除以以米为单位的身高\n",
    "![](../Photo/37.png)"
   ]
  },
  {
   "cell_type": "markdown",
   "metadata": {},
   "source": [
    "## 逻辑运算符\n",
    "![](../Photo/38.png)"
   ]
  },
  {
   "cell_type": "markdown",
   "metadata": {},
   "source": [
    "![](../Photo/39.png)\n",
    "![](../Photo/40.png)"
   ]
  },
  {
   "cell_type": "markdown",
   "metadata": {},
   "source": [
    "## EP：\n",
    "- 判定闰年：一个年份如果能被4整除但不能被100整除，或者能被400整除，那么这个年份就是闰年\n",
    "- 提示用户输入一个年份，并返回是否是闰年\n",
    "- 提示用户输入一个数字，判断其是否为水仙花数"
   ]
  },
  {
   "cell_type": "markdown",
   "metadata": {},
   "source": [
    "## 实例研究：彩票\n",
    "![](../Photo/41.png)"
   ]
  },
  {
   "cell_type": "markdown",
   "metadata": {},
   "source": [
    "# Homework\n",
    "- 1\n",
    "![](../Photo/42.png)"
   ]
  },
  {
   "cell_type": "code",
   "execution_count": 5,
   "metadata": {},
   "outputs": [
    {
     "name": "stdout",
     "output_type": "stream",
     "text": [
      "Enter a,b,c1.0,3,1\n",
      "The roots are -0.3819660112501051 and -2.618033988749895\n",
      "Enter a,b,c1,2.0,1\n",
      "The root is -1.0\n",
      "Enter a,b,c1,2,3\n",
      "The equation has no real roots\n"
     ]
    }
   ],
   "source": [
    "import math\n",
    "i=0\n",
    "while i<3:\n",
    "    a,b,c=input(\"Enter a,b,c\").split(\",\")\n",
    "    a=eval(a)\n",
    "    b=eval(b)\n",
    "    c=eval(c)\n",
    "    d=b*b-4*a*c\n",
    "    if d>0:\n",
    "        r1=((-b)+math.sqrt(d))/(2*a)\n",
    "        r2=((-b)-math.sqrt(d))/(2*a)\n",
    "        print(\"The roots are\",r1,\"and\",r2)\n",
    "    if d==0:\n",
    "        r1=(-b)/(2*a)\n",
    "        print(\"The root is\",r1)\n",
    "    if d<0:\n",
    "        print(\"The equation has no real roots\")\n",
    "    i=i+1 \n"
   ]
  },
  {
   "cell_type": "markdown",
   "metadata": {},
   "source": [
    "- 2\n",
    "![](../Photo/43.png)"
   ]
  },
  {
   "cell_type": "code",
   "execution_count": 1,
   "metadata": {},
   "outputs": [
    {
     "name": "stdout",
     "output_type": "stream",
     "text": [
      "99 71 的和\n",
      "170\n",
      "真\n"
     ]
    }
   ],
   "source": [
    "import random\n",
    "a=random.randint(0,100)\n",
    "b=random.randint(0,100)\n",
    "print(a,b,\"的和\")\n",
    "c=int(input())\n",
    "if a+b==c:\n",
    "    print(\"真\")\n",
    "else:\n",
    "     print(\"假\")"
   ]
  },
  {
   "cell_type": "markdown",
   "metadata": {},
   "source": [
    "- 3\n",
    "![](../Photo/44.png)"
   ]
  },
  {
   "cell_type": "code",
   "execution_count": 2,
   "metadata": {},
   "outputs": [
    {
     "name": "stdout",
     "output_type": "stream",
     "text": [
      "Enter today's day:1\n",
      "Enter the number of days elapsed since today:31\n",
      "Today is  Saturday and the future day is Wednesday\n"
     ]
    }
   ],
   "source": [
    "day = ['Sunday', 'Saturday', 'Friday', 'Thursday', 'Wednesday', 'Tuesday', 'Monday'] \n",
    "t=int(input(\"Enter today's day:\"))\n",
    "n=int(input(\"Enter the number of days elapsed since today:\"))\n",
    "print(\"Today is \",day[t%7],\"and the future day is\",day[(t+n)%7])"
   ]
  },
  {
   "cell_type": "markdown",
   "metadata": {},
   "source": [
    "- 4\n",
    "![](../Photo/45.png)"
   ]
  },
  {
   "cell_type": "code",
   "execution_count": 2,
   "metadata": {},
   "outputs": [
    {
     "name": "stdout",
     "output_type": "stream",
     "text": [
      "1\n",
      "2\n",
      "3\n",
      "1\n",
      "2\n",
      "3\n"
     ]
    }
   ],
   "source": [
    "i=0\n",
    "list=[0,0,0]\n",
    "print(\"输入三个数：\")\n",
    "while i<3:\n",
    "    list[i]=int(input())\n",
    "    i=i+1\n",
    "list.sort()\n",
    "i=0\n",
    "while i<3:\n",
    "    print(list[i])\n",
    "    i=i+1"
   ]
  },
  {
   "cell_type": "markdown",
   "metadata": {},
   "source": [
    "- 5\n",
    "![](../Photo/46.png)"
   ]
  },
  {
   "cell_type": "code",
   "execution_count": 5,
   "metadata": {},
   "outputs": [
    {
     "name": "stdout",
     "output_type": "stream",
     "text": [
      "Enter weight and price for package 1:50,24.59\n",
      "Enter weight and price for package 1:25,11.99\n",
      "package 2 has the better price\n"
     ]
    }
   ],
   "source": [
    "w1,p1=input(\"Enter weight and price for package 1:\").split(\",\")\n",
    "w2,p2=input(\"Enter weight and price for package 1:\").split(\",\")\n",
    "w1=eval(w1)\n",
    "w2=eval(w2)\n",
    "p1=eval(p1)\n",
    "p2=eval(p2)\n",
    "if w1*p1<w2*p2:\n",
    "    print(\"package 1 has the better price\")\n",
    "else:\n",
    "    if  w1*p1==w2*p2:\n",
    "        print(\"package both  has the better price\")\n",
    "    else:\n",
    "        print(\"package 2 has the better price\") "
   ]
  },
  {
   "cell_type": "markdown",
   "metadata": {},
   "source": [
    "- 6\n",
    "![](../Photo/47.png)"
   ]
  },
  {
   "cell_type": "code",
   "execution_count": 10,
   "metadata": {},
   "outputs": [
    {
     "name": "stdout",
     "output_type": "stream",
     "text": [
      "Enter the year:2000\n",
      "Enter the month:2\n",
      "2000 年 二 月份有 29 天\n"
     ]
    }
   ],
   "source": [
    "days = [0, 31, 28, 31, 30, 31, 30,31,31,30,31,30,31]\n",
    "months= ['0', '一', '二', '三', '四', '五', '六','七','八','九','十','十一','十二']\n",
    "year=int(input(\"Enter the year:\"))\n",
    "m=int(input(\"Enter the month:\"))\n",
    "if(year%4==0 and year%100!=0) or (year%400==0):\n",
    "    days[2]=days[2]+1\n",
    "print(year,\"年\",months[m],\"月份有\",days[m],\"天\")"
   ]
  },
  {
   "cell_type": "markdown",
   "metadata": {},
   "source": [
    "- 7\n",
    "![](../Photo/48.png)"
   ]
  },
  {
   "cell_type": "code",
   "execution_count": 22,
   "metadata": {},
   "outputs": [
    {
     "name": "stdout",
     "output_type": "stream",
     "text": [
      "正面是1反面是01\n",
      "1\n",
      "正确\n"
     ]
    }
   ],
   "source": [
    "import random\n",
    "n1=random.randint(0,1)\n",
    "n=int(input(\"正面是1反面是0\"))\n",
    "print(n1)\n",
    "if n1==n:\n",
    "    print(\"正确\")\n",
    "else:\n",
    "      print(\"错误\")"
   ]
  },
  {
   "cell_type": "markdown",
   "metadata": {},
   "source": [
    "- 8\n",
    "![](../Photo/49.png)"
   ]
  },
  {
   "cell_type": "code",
   "execution_count": null,
   "metadata": {},
   "outputs": [],
   "source": []
  },
  {
   "cell_type": "markdown",
   "metadata": {},
   "source": [
    "- 9\n",
    "![](../Photo/50.png)"
   ]
  },
  {
   "cell_type": "code",
   "execution_count": 52,
   "metadata": {},
   "outputs": [
    {
     "name": "stdout",
     "output_type": "stream",
     "text": [
      "2013\n",
      "1\n",
      "25\n",
      "36\n",
      "97\n",
      "24\n",
      "5\n",
      "100\n",
      "0\n",
      "Saturday\n"
     ]
    }
   ],
   "source": [
    "import math\n",
    "days = ['Saturday', 'Sunday',  'Monday', 'Tuesday', 'Wednesday', 'Thursday','Friday'] \n",
    "y=int(input())\n",
    "m=int(input())\n",
    "q=int(input())\n",
    "j=int(y//100)\n",
    "k=int(year%100)\n",
    "if m==1 or m==2:\n",
    "    m=m+12\n",
    "    y=y-1\n",
    "p1=(26*(m+1))//10\n",
    "print(p1)\n",
    "print(k)\n",
    "print(k//4)\n",
    "print(j//4)\n",
    "print(5*j)\n",
    "h=(q+p1+k+k//4+j//4+5*j)%7\n",
    "print(h)\n",
    "print(days[h])"
   ]
  },
  {
   "cell_type": "markdown",
   "metadata": {},
   "source": [
    "- 10\n",
    "![](../Photo/51.png)"
   ]
  },
  {
   "cell_type": "code",
   "execution_count": 16,
   "metadata": {},
   "outputs": [
    {
     "name": "stdout",
     "output_type": "stream",
     "text": [
      "The card you picked is the  5 of club\n"
     ]
    }
   ],
   "source": [
    "import random\n",
    "card1= ['0', 'Ace', '2', '3', '4', '5', '6','7','8','9','10','11','12']\n",
    "card2= ['heart', 'diamond', 'spade', 'club']\n",
    "n1=random.randint(1,12)\n",
    "n2=random.randint(0,3)\n",
    "print(\"The card you picked is the \",card1[n1],\"of\",card2[n2])"
   ]
  },
  {
   "cell_type": "markdown",
   "metadata": {},
   "source": [
    "- 11\n",
    "![](../Photo/52.png)"
   ]
  },
  {
   "cell_type": "code",
   "execution_count": 12,
   "metadata": {},
   "outputs": [
    {
     "name": "stdout",
     "output_type": "stream",
     "text": [
      "Enter a three-digit integer:121\n",
      "121 is a palindrome\n"
     ]
    }
   ],
   "source": [
    "n=int(input(\"Enter a three-digit integer:\"))\n",
    "bai=n//100\n",
    "shi=n/10%10\n",
    "ge=n%10\n",
    "if bai==ge:\n",
    "   print(n,\"is a palindrome\")\n",
    "else:\n",
    "   print(n,\"is not a palindrome\")"
   ]
  },
  {
   "cell_type": "markdown",
   "metadata": {},
   "source": [
    "- 12\n",
    "![](../Photo/53.png)"
   ]
  },
  {
   "cell_type": "code",
   "execution_count": 14,
   "metadata": {},
   "outputs": [
    {
     "name": "stdout",
     "output_type": "stream",
     "text": [
      "Enter three edges:1,1,1\n",
      "The perimeter is 3\n"
     ]
    }
   ],
   "source": [
    "e1,e2,e3=input(\"Enter three edges:\").split(\",\")\n",
    "e1=eval(e1)\n",
    "e2=eval(e2)\n",
    "e3=eval(e3)\n",
    "if e1+e2>e3 and e1+e3>e2 and e2+e3>e1:\n",
    "    print(\"The perimeter is\",e1+e2+e3)\n",
    "else:\n",
    "    print(\"wrong\")"
   ]
  },
  {
   "cell_type": "code",
   "execution_count": null,
   "metadata": {},
   "outputs": [],
   "source": []
  }
 ],
 "metadata": {
  "kernelspec": {
   "display_name": "Python 3",
   "language": "python",
   "name": "python3"
  },
  "language_info": {
   "codemirror_mode": {
    "name": "ipython",
    "version": 3
   },
   "file_extension": ".py",
   "mimetype": "text/x-python",
   "name": "python",
   "nbconvert_exporter": "python",
   "pygments_lexer": "ipython3",
   "version": "3.6.4"
  }
 },
 "nbformat": 4,
 "nbformat_minor": 2
}
