{
 "cells": [
  {
   "cell_type": "markdown",
   "metadata": {},
   "source": [
    "# 数学函数、字符串和对象\n",
    "## 本章介绍Python函数来执行常见的数学运算\n",
    "- 函数是完成一个特殊任务的一组语句，可以理解为一个函数相当于一个小功能，但是在开发中，需要注意一个函数的长度最好不要超过一屏\n",
    "- Python中的内置函数是不需要Import导入的\n",
    "<img src=\"../Photo/15.png\"></img>"
   ]
  },
  {
   "cell_type": "markdown",
   "metadata": {},
   "source": [
    "## 尝试练习Python内置函数"
   ]
  },
  {
   "cell_type": "markdown",
   "metadata": {},
   "source": [
    "## Python中的math模块提供了许多数学函数\n",
    "<img src=\"../Photo/16.png\"></img>\n",
    "<img src=\"../Photo/17.png\"></img>\n"
   ]
  },
  {
   "cell_type": "markdown",
   "metadata": {},
   "source": [
    "## 两个数学常量PI和e，可以通过使用math.pi 和math.e调用"
   ]
  },
  {
   "cell_type": "markdown",
   "metadata": {},
   "source": [
    "## EP:\n",
    "- 通过math库，写一个程序，使得用户输入三个顶点(x,y)返回三个角度\n",
    "- 注意：Python计算角度为弧度制，需要将其转换为角度\n",
    "<img src=\"../Photo/18.png\">"
   ]
  },
  {
   "cell_type": "markdown",
   "metadata": {},
   "source": [
    "## 字符串和字符\n",
    "- 在Python中，字符串必须是在单引号或者双引号内，在多段换行的字符串中可以使用“”“\n",
    "- 在使用”“”时，给予其变量则变为字符串，否则当多行注释使用"
   ]
  },
  {
   "cell_type": "markdown",
   "metadata": {},
   "source": [
    "## ASCII码与Unicode码\n",
    "- <img src=\"../Photo/19.png\"></img>\n",
    "- <img src=\"../Photo/20.png\"></img>\n",
    "- <img src=\"../Photo/21.png\"></img>"
   ]
  },
  {
   "cell_type": "markdown",
   "metadata": {},
   "source": [
    "## 函数ord、chr\n",
    "- ord 返回ASCII码值\n",
    "- chr 返回字符"
   ]
  },
  {
   "cell_type": "markdown",
   "metadata": {},
   "source": [
    "## EP:\n",
    "- 利用ord与chr进行简单邮箱加密"
   ]
  },
  {
   "cell_type": "markdown",
   "metadata": {},
   "source": [
    "## 转义序列 \\\n",
    "- a = \"He said,\"Johon's program is easy to read\"\""
   ]
  },
  {
   "cell_type": "markdown",
   "metadata": {},
   "source": [
    "## 高级print\n",
    "- 参数 end： 以什么方式结束打印\n",
    "- 默认换行打印"
   ]
  },
  {
   "cell_type": "markdown",
   "metadata": {},
   "source": [
    "## 函数str\n",
    "- 将类型强制转换成字符串类型\n",
    "- 其他一些以后会学到(list,set,tuple...)"
   ]
  },
  {
   "cell_type": "markdown",
   "metadata": {},
   "source": [
    "## 字符串连接操作\n",
    "- 直接使用 “+” \n",
    "- join() 函数 "
   ]
  },
  {
   "cell_type": "markdown",
   "metadata": {},
   "source": [
    "## EP：\n",
    "- 将 “Welcome” “to” \"Python\" 拼接\n",
    "- 将int型 100 与 “joker is a bad man” 拼接\n",
    "- 从控制台读取字符串\n",
    "> 输入一个名字返回夸奖此人是一个帅哥"
   ]
  },
  {
   "cell_type": "markdown",
   "metadata": {},
   "source": [
    "## 实例研究：最小数量硬币\n",
    "- 开发一个程序，让用户输入总金额，这是一个用美元和美分表示的浮点值，返回一个由美元、两角五分的硬币、一角的硬币、五分硬币、以及美分个数\n",
    "<img src=\"../Photo/22.png\"></img>"
   ]
  },
  {
   "cell_type": "code",
   "execution_count": 30,
   "metadata": {},
   "outputs": [
    {
     "name": "stdout",
     "output_type": "stream",
     "text": [
      "Ennter an amount,for example 11.56:11.56\n",
      "1156\n",
      "11 2 0 1 1\n"
     ]
    }
   ],
   "source": [
    "amount = eval(input('Ennter an amount,for example 11.56:'))\n",
    "remainingAmount = int(amount * 100)\n",
    "print(remainingAmount)\n",
    "numberOfOneDollars = remainingAmount //100\n",
    "remainingAmount = remainingAmount % 100\n",
    "numberOfQuarters = remainingAmount // 25\n",
    "remainingAmount = remainingAmount % 25\n",
    "numberOfDimes = remainingAmount // 10\n",
    "remainingAmount = remainingAmount % 10\n",
    "numberOfNickls = remainingAmount // 5\n",
    "remainingAmount = remainingAmount % 5\n",
    "numberOfPenies = remainingAmount\n",
    "print(numberOfOneDollars,numberOfQuarters,numberOfDimes,numberOfNickls,numberOfPenies)"
   ]
  },
  {
   "cell_type": "markdown",
   "metadata": {},
   "source": [
    "- Python弱项，对于浮点型的处理并不是很好，但是处理数据的时候使用的是Numpy类型\n",
    "<img src=\"../Photo/23.png\"></img>"
   ]
  },
  {
   "cell_type": "code",
   "execution_count": 1,
   "metadata": {},
   "outputs": [
    {
     "name": "stdout",
     "output_type": "stream",
     "text": [
      "Ennter an amount,for example 11.56:1003\n",
      "1003\n",
      "10 0 0 0 3\n"
     ]
    }
   ],
   "source": [
    "remainingAmount = eval(input('Ennter an amount,for example 11.56:'))\n",
    "print(remainingAmount)\n",
    "numberOfOneDollars = remainingAmount //100\n",
    "remainingAmount = remainingAmount % 100\n",
    "numberOfQuarters = remainingAmount // 25\n",
    "remainingAmount = remainingAmount % 25\n",
    "numberOfDimes = remainingAmount // 10\n",
    "remainingAmount = remainingAmount % 10\n",
    "numberOfNickls = remainingAmount // 5\n",
    "remainingAmount = remainingAmount % 5\n",
    "numberOfPenies = remainingAmount\n",
    "print(numberOfOneDollars,numberOfQuarters,numberOfDimes,numberOfNickls,numberOfPenies)"
   ]
  },
  {
   "cell_type": "markdown",
   "metadata": {},
   "source": [
    "## id与type\n",
    "- id 查看内存地址，在判断语句中将会使用\n",
    "- type 查看元素类型"
   ]
  },
  {
   "cell_type": "markdown",
   "metadata": {},
   "source": [
    "## 其他格式化语句见书"
   ]
  },
  {
   "cell_type": "markdown",
   "metadata": {},
   "source": [
    "# Homework\n",
    "- 1\n",
    "<img src=\"../Photo/24.png\"><img>\n",
    "<img src=\"../Photo/25.png\"><img>"
   ]
  },
  {
   "cell_type": "code",
   "execution_count": 6,
   "metadata": {},
   "outputs": [
    {
     "name": "stdout",
     "output_type": "stream",
     "text": [
      "Enter the length from the center to a vertex5.5\n",
      "The area of the pentagon is  71.92\n"
     ]
    }
   ],
   "source": [
    "import math\n",
    "r=eval(input(\"Enter the length from the center to a vertex\"))\n",
    "s=2*r*math.sin(math.pi/5)\n",
    "Area=(5*s*s)/(4*math.tan(math.pi/5))\n",
    "print(\"The area of the pentagon is \",round(Area,2))"
   ]
  },
  {
   "cell_type": "markdown",
   "metadata": {},
   "source": [
    "- 2\n",
    "<img src=\"../Photo/26.png\"><img>"
   ]
  },
  {
   "cell_type": "code",
   "execution_count": 4,
   "metadata": {},
   "outputs": [
    {
     "name": "stdout",
     "output_type": "stream",
     "text": [
      "Enter point 1(latitude and longitude) in degrees39.55,-116.25\n",
      "Enter point 2(latitude and longitude) in degrees41.5,87.37\n",
      "The distance between the two points is 10691.79183231593 km\n"
     ]
    }
   ],
   "source": [
    "import math\n",
    "radius=6371.01\n",
    "latitude,longitude = input(\"Enter point 1(latitude and longitude) in degrees\").split(\",\")\n",
    "latitude2,longitude2 = input(\"Enter point 2(latitude and longitude) in degrees\").split(\",\")\n",
    "x1=math.radians(eval(latitude))\n",
    "x2=math.radians(eval(latitude2))\n",
    "y1=math.radians(eval(longitude))\n",
    "y2=math.radians(eval(longitude2))\n",
    "d=radius*math.acos(math.sin(x1)*math.sin(x2)+math.cos(x1)*math.cos(x2)*math.cos(y1-y2))\n",
    "print(\"The distance between the two points is\",d,\"km\")"
   ]
  },
  {
   "cell_type": "markdown",
   "metadata": {},
   "source": [
    "- 3\n",
    "<img src=\"../Photo/27.png\"><img>"
   ]
  },
  {
   "cell_type": "code",
   "execution_count": 5,
   "metadata": {},
   "outputs": [
    {
     "name": "stdout",
     "output_type": "stream",
     "text": [
      "Enter the side:5.5\n",
      "The area of the pentagon is 52.044441367816255\n"
     ]
    }
   ],
   "source": [
    "import math\n",
    "s = eval(input(\"Enter the side:\"))\n",
    "Area=(5*s*s)/(4*math.tan(math.pi/5))\n",
    "print(\"The area of the pentagon is\",Area)"
   ]
  },
  {
   "cell_type": "markdown",
   "metadata": {},
   "source": [
    "- 4\n",
    "<img src=\"../Photo/28.png\"><img>"
   ]
  },
  {
   "cell_type": "code",
   "execution_count": 6,
   "metadata": {},
   "outputs": [
    {
     "name": "stdout",
     "output_type": "stream",
     "text": [
      "Enter the number of sides:5\n",
      "Enter the side:6.5\n",
      "The area of the polygon is 72.69017017488386\n"
     ]
    }
   ],
   "source": [
    "import math\n",
    "n = eval(input(\"Enter the number of sides:\"))\n",
    "s = eval(input(\"Enter the side:\"))\n",
    "Area=(n*s*s)/(4*math.tan(math.pi/n))\n",
    "print(\"The area of the polygon is\",Area)"
   ]
  },
  {
   "cell_type": "markdown",
   "metadata": {},
   "source": [
    "- 5\n",
    "<img src=\"../Photo/29.png\"><img>\n",
    "<img src=\"../Photo/30.png\"><img>"
   ]
  },
  {
   "cell_type": "code",
   "execution_count": 8,
   "metadata": {},
   "outputs": [
    {
     "name": "stdout",
     "output_type": "stream",
     "text": [
      "Enter an ASCII code:69\n",
      "The character is E\n"
     ]
    }
   ],
   "source": [
    "n = int(input(\"Enter an ASCII code:\"))\n",
    "N=chr(n)#转换成字母\n",
    "#ord('A')=65 转换成数字\n",
    "#hex(x )                 将一个整数转换为一个十六进制字符串    \n",
    "#oct(x )                 将一个整数转换为一个八进制字符串  \n",
    "print(\"The character is\",N)"
   ]
  },
  {
   "cell_type": "markdown",
   "metadata": {},
   "source": [
    "- 6\n",
    "<img src=\"../Photo/31.png\"><img>"
   ]
  },
  {
   "cell_type": "code",
   "execution_count": 3,
   "metadata": {},
   "outputs": [
    {
     "name": "stdout",
     "output_type": "stream",
     "text": [
      "Enter employee's name:Smith\n",
      "Enter number of hours worked in a week:10\n",
      "Enter hourly pay rate:9.75\n",
      "Enter federal tax withholding rate:0.20\n",
      "Enter state tax withholding rate:0.09\n",
      "Employee Name: Smith\n",
      "Hours Worked: 10.0\n",
      "pay Rate:$ 9.75\n",
      "Gross pay:$ 97.5\n",
      "Deductions:\n",
      "  Federal Withholding(20.0%):$ 19.5\n",
      "  State Withholding(9.0%):$ 8.78\n",
      "  Total Deduction:$ 28.27\n",
      "Net Pay:$ 69.22\n"
     ]
    }
   ],
   "source": [
    "name = input(\"Enter employee's name:\")\n",
    "number =eval(input(\"Enter number of hours worked in a week:\"))\n",
    "rate = eval(input(\"Enter hourly pay rate:\"))\n",
    "rate2=eval(input(\"Enter federal tax withholding rate:\"))\n",
    "rate3=eval(input(\"Enter state tax withholding rate:\"))\n",
    "print(\"Employee Name:\",name)\n",
    "print(\"Hours Worked:\",round(number*1.0,1))\n",
    "print(\"pay Rate:$\",round(rate,2))\n",
    "print(\"Gross pay:$\",rate*number)\n",
    "print(\"Deductions:\")\n",
    "print(\"  Federal Withholding(20.0%):$\",rate*number*rate2)\n",
    "print(\"  State Withholding(9.0%):$\",round(rate*number*rate3,2))\n",
    "print(\"  Total Deduction:$\",round(rate*number*rate2+rate*number*rate3,2))\n",
    "print(\"Net Pay:$\",round(rate*number-rate*number*rate2-rate*number*rate3,2))"
   ]
  },
  {
   "cell_type": "markdown",
   "metadata": {},
   "source": [
    "- 7\n",
    "<img src=\"../Photo/32.png\"><img>"
   ]
  },
  {
   "cell_type": "code",
   "execution_count": 1,
   "metadata": {},
   "outputs": [
    {
     "name": "stdout",
     "output_type": "stream",
     "text": [
      "Enter an integer:3125\n",
      "The reversed number is 5213"
     ]
    }
   ],
   "source": [
    "n = int(input(\"Enter an integer:\"))\n",
    "print(\"The reversed number is \", end=\"\")\n",
    "while n!=0:\n",
    "    print(n%10, end=\"\")#不换行输出\n",
    "    n=n//10\n",
    "    "
   ]
  },
  {
   "cell_type": "markdown",
   "metadata": {},
   "source": [
    "- 8 进阶：\n",
    "> 加密一串文本，并将解密后的文件写入本地保存"
   ]
  },
  {
   "cell_type": "code",
   "execution_count": 21,
   "metadata": {},
   "outputs": [],
   "source": [
    "#md5 加密\n",
    "import hashlib\n",
    " \n",
    "def md5(str):\n",
    "    m = hashlib.md5()\n",
    "    m.update(str.encode(\"utf8\"))\n",
    "   # print(m.hexdigest())\n",
    "    return m.hexdigest()\n",
    " \n",
    "def md5GBK(str1):\n",
    "    m = hashlib.md5(str1.encode(encoding='gb2312'))\n",
    "    #print(m.hexdigest())\n",
    "    return m.hexdigest()\n",
    " \n",
    "#print(md5('hello'))\n",
    "#print(md5GBK('你好'))\n",
    "filename = 'write_data.txt'\n",
    "with open(filename,'w') as f: # 如果filename不存在会自动创建， 'w'表示写数据，写之前会清空文件中的原有数据！写入与该文件同级目录 a是追加\n",
    "   f.write(md5('hello'))\n",
    "\n"
   ]
  },
  {
   "cell_type": "code",
   "execution_count": null,
   "metadata": {},
   "outputs": [],
   "source": []
  }
 ],
 "metadata": {
  "kernelspec": {
   "display_name": "Python 3",
   "language": "python",
   "name": "python3"
  },
  "language_info": {
   "codemirror_mode": {
    "name": "ipython",
    "version": 3
   },
   "file_extension": ".py",
   "mimetype": "text/x-python",
   "name": "python",
   "nbconvert_exporter": "python",
   "pygments_lexer": "ipython3",
   "version": "3.6.4"
  }
 },
 "nbformat": 4,
 "nbformat_minor": 2
}
