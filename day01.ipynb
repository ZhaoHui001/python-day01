{
 "cells": [
  {
   "cell_type": "code",
   "execution_count": 1,
   "metadata": {},
   "outputs": [
    {
     "name": "stdout",
     "output_type": "stream",
     "text": [
      "Hello World!\n"
     ]
    }
   ],
   "source": [
    "print(\"Hello World!\")"
   ]
  },
  {
   "cell_type": "code",
   "execution_count": 2,
   "metadata": {},
   "outputs": [
    {
     "ename": "NameError",
     "evalue": "name 'radius' is not defined",
     "output_type": "error",
     "traceback": [
      "\u001b[1;31m---------------------------------------------------------------------------\u001b[0m",
      "\u001b[1;31mNameError\u001b[0m                                 Traceback (most recent call last)",
      "\u001b[1;32m<ipython-input-2-8e145269f032>\u001b[0m in \u001b[0;36m<module>\u001b[1;34m()\u001b[0m\n\u001b[1;32m----> 1\u001b[1;33m \u001b[0marea\u001b[0m\u001b[1;33m=\u001b[0m\u001b[0mradius\u001b[0m\u001b[1;33m*\u001b[0m\u001b[0mradius\u001b[0m\u001b[1;33m*\u001b[0m\u001b[1;36m3.14\u001b[0m\u001b[1;33m\u001b[0m\u001b[0m\n\u001b[0m",
      "\u001b[1;31mNameError\u001b[0m: name 'radius' is not defined"
     ]
    }
   ],
   "source": [
    "area=radius*radius*3.14"
   ]
  },
  {
   "cell_type": "code",
   "execution_count": 3,
   "metadata": {},
   "outputs": [],
   "source": [
    "radius=100\n",
    "area=radius*radius*3.14"
   ]
  },
  {
   "cell_type": "code",
   "execution_count": 5,
   "metadata": {},
   "outputs": [
    {
     "name": "stdout",
     "output_type": "stream",
     "text": [
      "31400.0\n"
     ]
    }
   ],
   "source": [
    "radius=100\n",
    "area=radius*radius*3.14\n",
    "print(area)"
   ]
  },
  {
   "cell_type": "code",
   "execution_count": null,
   "metadata": {},
   "outputs": [],
   "source": [
    "message=input(\"tell me something,and I will repeat it back to you:\")\n",
    "print(message)"
   ]
  },
  {
   "cell_type": "code",
   "execution_count": null,
   "metadata": {},
   "outputs": [],
   "source": [
    "message=input(\"tell me something,and I will repeat it back to you:\")\n",
    "print(message)"
   ]
  },
  {
   "cell_type": "code",
   "execution_count": null,
   "metadata": {},
   "outputs": [],
   "source": [
    "message=input(\"tell me something,and I will repeat it back to you:\")\n",
    "print(message)"
   ]
  },
  {
   "cell_type": "code",
   "execution_count": null,
   "metadata": {},
   "outputs": [],
   "source": [
    "age=input(\"age\")"
   ]
  },
  {
   "cell_type": "code",
   "execution_count": 1,
   "metadata": {},
   "outputs": [
    {
     "name": "stdout",
     "output_type": "stream",
     "text": [
      "请输入一个数字1\n"
     ]
    }
   ],
   "source": [
    "variable = input(\"请输入一个数字\")"
   ]
  },
  {
   "cell_type": "code",
   "execution_count": 3,
   "metadata": {},
   "outputs": [
    {
     "name": "stdout",
     "output_type": "stream",
     "text": [
      "请输入一个数字1\n",
      "111\n"
     ]
    }
   ],
   "source": [
    "variable = input(\"请输入一个数字\")#输入进去的是字符串。所以乘以几，就输出几遍\n",
    "variable=variable*3\n",
    "print(variable)"
   ]
  },
  {
   "cell_type": "code",
   "execution_count": 4,
   "metadata": {},
   "outputs": [
    {
     "name": "stdout",
     "output_type": "stream",
     "text": [
      "请输入一个数字1\n",
      "3\n"
     ]
    }
   ],
   "source": [
    "variable = input(\"请输入一个数字\")#输入进去的是字符串。所以乘以几，就输出几遍\n",
    "variable=int(variable)*3#类型转换\n",
    "print(variable)"
   ]
  },
  {
   "cell_type": "code",
   "execution_count": 5,
   "metadata": {},
   "outputs": [
    {
     "name": "stdout",
     "output_type": "stream",
     "text": [
      "请输入2\n",
      "8\n"
     ]
    }
   ],
   "source": [
    "#变量命名同C语言\n",
    "#练习\n",
    "x=input(\"请输入\")\n",
    "x=int(x)**3\n",
    "print(x)\n"
   ]
  },
  {
   "cell_type": "code",
   "execution_count": 7,
   "metadata": {},
   "outputs": [
    {
     "name": "stdout",
     "output_type": "stream",
     "text": [
      "请输入工资100\n",
      "90.0\n"
     ]
    }
   ],
   "source": [
    "#type(变量)表示输出数据类型\n",
    "#eval(变量)转换为浮点型\n",
    "#练习\n",
    "x=eval(input(\"请输入工资\"))\n",
    "print(0.9*x)"
   ]
  },
  {
   "cell_type": "code",
   "execution_count": 8,
   "metadata": {},
   "outputs": [
    {
     "name": "stdout",
     "output_type": "stream",
     "text": [
      "q 1 2\n"
     ]
    }
   ],
   "source": [
    "#同时赋值\n",
    "a,b,c='q',1,2\n",
    "print(a,b,c)"
   ]
  },
  {
   "cell_type": "code",
   "execution_count": 9,
   "metadata": {},
   "outputs": [
    {
     "name": "stdout",
     "output_type": "stream",
     "text": [
      "ABC DEF\n",
      "abc def\n"
     ]
    }
   ],
   "source": [
    "#字符串大小写转换\n",
    "name=\"abc def\"\n",
    "print(name.upper())\n",
    "print(name.lower())"
   ]
  },
  {
   "cell_type": "code",
   "execution_count": 10,
   "metadata": {},
   "outputs": [
    {
     "name": "stdout",
     "output_type": "stream",
     "text": [
      "3.141592653589793\n"
     ]
    }
   ],
   "source": [
    "#常量\n",
    "import math\n",
    "print(math.pi)"
   ]
  },
  {
   "cell_type": "code",
   "execution_count": 12,
   "metadata": {},
   "outputs": [
    {
     "name": "stdout",
     "output_type": "stream",
     "text": [
      "3 -1 0.5 2 1 1\n",
      "3.0 -1.0 0.5 2.0\n"
     ]
    }
   ],
   "source": [
    "#运算付\n",
    "a=1\n",
    "b=2\n",
    "print(a+b,a-b,a/b,a*b,a%b,a**b)\n",
    "a=1.0\n",
    "b=2.0\n",
    "print(a+b,a-b,a/b,a*b)"
   ]
  },
  {
   "cell_type": "code",
   "execution_count": 13,
   "metadata": {},
   "outputs": [
    {
     "name": "stdout",
     "output_type": "stream",
     "text": [
      "6\n"
     ]
    }
   ],
   "source": [
    "print(25//4)"
   ]
  },
  {
   "cell_type": "code",
   "execution_count": 25,
   "metadata": {},
   "outputs": [
    {
     "name": "stdout",
     "output_type": "stream",
     "text": [
      "输入4\n",
      "偶数\n"
     ]
    }
   ],
   "source": [
    "#判断\n",
    "x=int(input(\"输入\"))\n",
    "x=x%2\n",
    "if x==0:\n",
    "      print(\"偶数\")#利用缩进说明是从属关系\n",
    "else:\n",
    "      print(\"奇数\")"
   ]
  },
  {
   "cell_type": "code",
   "execution_count": null,
   "metadata": {},
   "outputs": [],
   "source": [
    "x=eval(input(\"输入\"))\n",
    "f=x//60\n",
    "print(x//60,\"分\",x%60,\"秒\")"
   ]
  },
  {
   "cell_type": "code",
   "execution_count": 8,
   "metadata": {
    "scrolled": true
   },
   "outputs": [
    {
     "name": "stdout",
     "output_type": "stream",
     "text": [
      "输入500\n",
      "8 分 20 秒\n",
      "8分20秒\n"
     ]
    }
   ],
   "source": [
    "x=eval(input(\"输入\"))\n",
    "print(x//60,\"分\",x%60,\"秒\")\n",
    "print(\"%d分%d秒\"%(x//60,x%60))"
   ]
  },
  {
   "cell_type": "code",
   "execution_count": 9,
   "metadata": {},
   "outputs": [
    {
     "name": "stdout",
     "output_type": "stream",
     "text": [
      "123.0\n"
     ]
    }
   ],
   "source": [
    "#科学记数法\n",
    "x=1.23e+2\n",
    "print(x)"
   ]
  },
  {
   "cell_type": "code",
   "execution_count": 10,
   "metadata": {},
   "outputs": [
    {
     "data": {
      "text/plain": [
       "6.2"
      ]
     },
     "execution_count": 10,
     "metadata": {},
     "output_type": "execute_result"
    }
   ],
   "source": [
    "round(25/4,1)#四舍五入"
   ]
  },
  {
   "cell_type": "code",
   "execution_count": 15,
   "metadata": {},
   "outputs": [
    {
     "name": "stdout",
     "output_type": "stream",
     "text": [
      "x153\n",
      "27\n",
      "125\n",
      "1\n",
      "153\n",
      "水仙花数\n"
     ]
    }
   ],
   "source": [
    "#水仙花数\n",
    "x=eval(input(\"x\"))\n",
    "ge=(x%10)**3\n",
    "print(ge)\n",
    "shi=(x//10%10)**3\n",
    "print(shi)\n",
    "bai=(x//100)**3\n",
    "print(bai)\n",
    "print(ge+shi+bai)\n",
    "if ge+shi+bai ==x:\n",
    "    print(\"水仙花数\")"
   ]
  },
  {
   "cell_type": "code",
   "execution_count": 24,
   "metadata": {},
   "outputs": [
    {
     "name": "stdout",
     "output_type": "stream",
     "text": [
      "1.97e+04\n"
     ]
    }
   ],
   "source": [
    "#交税\n",
    "x=197.55e+2\n",
    "x=x*(1-0.06/100)\n",
    "print(\"%.2e\"%x)"
   ]
  },
  {
   "cell_type": "code",
   "execution_count": 26,
   "metadata": {},
   "outputs": [
    {
     "name": "stdout",
     "output_type": "stream",
     "text": [
      "1531727305.4580004\n"
     ]
    }
   ],
   "source": [
    "import time\n",
    "print(time.time())"
   ]
  },
  {
   "cell_type": "code",
   "execution_count": 31,
   "metadata": {},
   "outputs": [
    {
     "name": "stdout",
     "output_type": "stream",
     "text": [
      "8 时 8 分 38 秒\n"
     ]
    }
   ],
   "source": [
    "x=int(time.time())\n",
    "miao=x%60\n",
    "fen=x//60%60\n",
    "shi=x//60//60%24\n",
    "print(shi,\"时\",fen,\"分\",miao,\"秒\")"
   ]
  },
  {
   "cell_type": "code",
   "execution_count": null,
   "metadata": {},
   "outputs": [],
   "source": []
  }
 ],
 "metadata": {
  "kernelspec": {
   "display_name": "Python 3",
   "language": "python",
   "name": "python3"
  },
  "language_info": {
   "codemirror_mode": {
    "name": "ipython",
    "version": 3
   },
   "file_extension": ".py",
   "mimetype": "text/x-python",
   "name": "python",
   "nbconvert_exporter": "python",
   "pygments_lexer": "ipython3",
   "version": "3.6.4"
  }
 },
 "nbformat": 4,
 "nbformat_minor": 2
}
